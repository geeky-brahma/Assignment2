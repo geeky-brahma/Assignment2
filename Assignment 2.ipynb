{
 "cells": [
  {
   "cell_type": "markdown",
   "id": "e10c1d02",
   "metadata": {},
   "source": [
    "Write a program to accept percentage from the user and display the grade oecording to the following\n",
    "criteria:"
   ]
  },
  {
   "cell_type": "code",
   "execution_count": 1,
   "id": "92d72900",
   "metadata": {},
   "outputs": [
    {
     "name": "stdout",
     "output_type": "stream",
     "text": [
      "Enter Ur Percentage: 90\n",
      "Grade=B\n"
     ]
    }
   ],
   "source": [
    "percent=float(input(\"Enter Ur Percentage: \"))\n",
    "if percent>90:\n",
    "    print(\"Grade=A\")\n",
    "elif percent>80 and percent<=90:\n",
    "    print(\"Grade=B\")\n",
    "elif percent>=60 and percent<=80:\n",
    "    print(\"Grade=C\")\n",
    "else:\n",
    "    print(\"Grade=D\")"
   ]
  },
  {
   "cell_type": "markdown",
   "id": "7e4d1748",
   "metadata": {},
   "source": [
    "Write a program to accept the cost price Of a bike and display the rood tax to be paid according to the\n",
    "following criteria:"
   ]
  },
  {
   "cell_type": "code",
   "execution_count": 3,
   "id": "a9b0adfd",
   "metadata": {},
   "outputs": [
    {
     "name": "stdout",
     "output_type": "stream",
     "text": [
      "Enter the price of the bike: 40000\n",
      "Tax slab= 5% and Tax to be paid= 2000.0\n"
     ]
    }
   ],
   "source": [
    "cost_b=float(input(\"Enter the price of the bike: \"))\n",
    "if cost_b>100000:\n",
    "    print(\"Tax slab= 15% and Tax to be paid=\", (15*cost_b)/100)\n",
    "elif cost_b>50000 and cost_b<=100000:\n",
    "    print(\"Tax slab= 10% and Tax to be paid=\", (10*cost_b)/100)\n",
    "else:\n",
    "    print(\"Tax slab= 5% and Tax to be paid=\", (5*cost_b)/100)"
   ]
  },
  {
   "cell_type": "markdown",
   "id": "43c0fc9d",
   "metadata": {},
   "source": [
    "Accept any city from the user and display monuments of that city."
   ]
  },
  {
   "cell_type": "code",
   "execution_count": 6,
   "id": "6ba58e7c",
   "metadata": {},
   "outputs": [
    {
     "name": "stdout",
     "output_type": "stream",
     "text": [
      "Enter the city name: Haridwar\n",
      "No info on this as of yet!!\n"
     ]
    }
   ],
   "source": [
    "city=input(\"Enter the city name: \")\n",
    "if city==\"Delhi\":\n",
    "    print(\"Monument: Red Fort\")\n",
    "elif city==\"Agra\":\n",
    "    print(\"Monument: Taj Mahal\")\n",
    "elif city==\"Jaipur\":\n",
    "    print(\"Monument: Jai Mahal\")\n",
    "else:\n",
    "    print(\"No info on this as of yet!!\")"
   ]
  },
  {
   "cell_type": "markdown",
   "id": "384aca9c",
   "metadata": {},
   "source": [
    "Check how many times a given number can be divided by 3 before it is less than or equal to 10."
   ]
  },
  {
   "cell_type": "code",
   "execution_count": 27,
   "id": "d7516c45",
   "metadata": {},
   "outputs": [
    {
     "name": "stdout",
     "output_type": "stream",
     "text": [
      "Enter a Number: 12\n",
      "The given number can be divided by 3 1 times\n"
     ]
    }
   ],
   "source": [
    "n=int(input(\"Enter a Number: \"))\n",
    "count=0\n",
    "while n>10:\n",
    "    n=n//3\n",
    "    count+=1\n",
    "print(f\"The given number can be divided by 3 {count} times\")"
   ]
  },
  {
   "cell_type": "markdown",
   "id": "889941d7",
   "metadata": {},
   "source": [
    "Why and When to Use while Loop in Python give a detailed description with example"
   ]
  },
  {
   "cell_type": "markdown",
   "id": "344b6f6b",
   "metadata": {},
   "source": [
    "A while loop in Python is used to repeatedly execute a block of code as long as a given \n",
    "condition is true. \n",
    "The code inside the loop is executed until the condition becomes false."
   ]
  },
  {
   "cell_type": "code",
   "execution_count": 8,
   "id": "c59ec2b9",
   "metadata": {},
   "outputs": [
    {
     "name": "stdout",
     "output_type": "stream",
     "text": [
      "1\n",
      "2\n",
      "3\n",
      "4\n",
      "5\n",
      "6\n",
      "7\n",
      "8\n",
      "9\n",
      "10\n"
     ]
    }
   ],
   "source": [
    "i=1\n",
    "while i<=10:\n",
    "    print(i)\n",
    "    i+=1"
   ]
  },
  {
   "cell_type": "markdown",
   "id": "53e2fe2f",
   "metadata": {},
   "source": [
    "Use nested while loop to print 3 different pattern."
   ]
  },
  {
   "cell_type": "code",
   "execution_count": 20,
   "id": "ab0064ae",
   "metadata": {},
   "outputs": [
    {
     "name": "stdout",
     "output_type": "stream",
     "text": [
      "*\n",
      "**\n",
      "***\n",
      "****\n",
      "*****\n"
     ]
    }
   ],
   "source": [
    "row=5\n",
    "i=1\n",
    "\n",
    "while i < row+1:\n",
    "    j=1\n",
    "    while j<i+1:\n",
    "        print(\"*\", end=\"\")\n",
    "        j+=1\n",
    "    print()\n",
    "    i+=1\n",
    "    "
   ]
  },
  {
   "cell_type": "code",
   "execution_count": 21,
   "id": "da90c8fe",
   "metadata": {},
   "outputs": [
    {
     "name": "stdout",
     "output_type": "stream",
     "text": [
      "    *\n",
      "   **\n",
      "  ***\n",
      " ****\n",
      "*****\n"
     ]
    }
   ],
   "source": [
    "rows = 5\n",
    "i = 1\n",
    "while i <= rows:\n",
    "    j = 1\n",
    "    while j <= (rows - i):\n",
    "        print(\" \", end=\"\")\n",
    "        j += 1\n",
    "    k = 1\n",
    "    while k <= i:\n",
    "        print(\"*\", end=\"\")\n",
    "        k += 1\n",
    "    print(\"\")\n",
    "    i += 1"
   ]
  },
  {
   "cell_type": "code",
   "execution_count": 23,
   "id": "3b39778f",
   "metadata": {},
   "outputs": [
    {
     "name": "stdout",
     "output_type": "stream",
     "text": [
      "    *\n",
      "   ***\n",
      "  *****\n",
      " *******\n",
      "*********\n",
      " *******\n",
      "  *****\n",
      "   ***\n",
      "    *\n"
     ]
    }
   ],
   "source": [
    "rows = 5\n",
    "i = 1\n",
    "while i <= (rows * 2 - 1):\n",
    "    j = 1\n",
    "    while j <= abs(rows - i):\n",
    "        print(\" \", end=\"\")\n",
    "        j += 1\n",
    "    k = 1\n",
    "    while k <= (2 * (rows - abs(rows - i)) - 1):\n",
    "        print(\"*\", end=\"\")\n",
    "        k += 1\n",
    "    print(\"\")\n",
    "    i += 1\n"
   ]
  },
  {
   "cell_type": "markdown",
   "id": "e497cada",
   "metadata": {},
   "source": [
    "Reverse a while loop to display numbers from 10 to 1"
   ]
  },
  {
   "cell_type": "code",
   "execution_count": 25,
   "id": "8f59b7f2",
   "metadata": {},
   "outputs": [
    {
     "name": "stdout",
     "output_type": "stream",
     "text": [
      "10\n",
      "9\n",
      "8\n",
      "7\n",
      "6\n",
      "5\n",
      "4\n",
      "3\n",
      "2\n",
      "1\n"
     ]
    }
   ],
   "source": [
    "n=10\n",
    "while n>=1:\n",
    "    print(n)\n",
    "    n-=1"
   ]
  },
  {
   "cell_type": "code",
   "execution_count": null,
   "id": "ede41dd0",
   "metadata": {},
   "outputs": [],
   "source": []
  }
 ],
 "metadata": {
  "kernelspec": {
   "display_name": "Python 3 (ipykernel)",
   "language": "python",
   "name": "python3"
  },
  "language_info": {
   "codemirror_mode": {
    "name": "ipython",
    "version": 3
   },
   "file_extension": ".py",
   "mimetype": "text/x-python",
   "name": "python",
   "nbconvert_exporter": "python",
   "pygments_lexer": "ipython3",
   "version": "3.9.13"
  }
 },
 "nbformat": 4,
 "nbformat_minor": 5
}
